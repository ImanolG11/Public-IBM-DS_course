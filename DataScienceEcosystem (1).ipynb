{
  "metadata": {
    "kernelspec": {
      "name": "python",
      "display_name": "Python (Pyodide)",
      "language": "python"
    },
    "language_info": {
      "codemirror_mode": {
        "name": "python",
        "version": 3
      },
      "file_extension": ".py",
      "mimetype": "text/x-python",
      "name": "python",
      "nbconvert_exporter": "python",
      "pygments_lexer": "ipython3",
      "version": "3.8"
    }
  },
  "nbformat_minor": 5,
  "nbformat": 4,
  "cells": [
    {
      "id": "ba206868-fd00-4426-b245-2df645fe0b51",
      "cell_type": "markdown",
      "source": "# Data Science Tools and Ecosystem",
      "metadata": {}
    },
    {
      "id": "40458e09-0458-44f8-b9c4-1476c084b6e3",
      "cell_type": "markdown",
      "source": "In this notebook, Data Science Tools and Ecosystem are summarized.",
      "metadata": {}
    },
    {
      "id": "33ac136d-756c-4cd5-95c5-bfc08988b3c0",
      "cell_type": "markdown",
      "source": "**Objectives:**\n+ Identify some of the popular languages\n+ Identify commonly used libraries\n+ Define popular Data Science Tools\n+ Introduce arithmetic functions",
      "metadata": {}
    },
    {
      "id": "87d848dc-1dd3-4206-a2b1-c255fddf06d9",
      "cell_type": "markdown",
      "source": "Some of the popular languages that Data Scientists use are:\n1. Python\n2. R\n3. SQL",
      "metadata": {}
    },
    {
      "id": "979d8275-d251-41e4-ba66-f64fd3963bdc",
      "cell_type": "markdown",
      "source": "Some of the commonly used libraries used by Data Scientists include: \n1. Pandas\n2. NumPy\n3. Matplotlib",
      "metadata": {}
    },
    {
      "id": "87938800-ab2b-49eb-9c6b-27b17330915b",
      "cell_type": "markdown",
      "source": "| Data Science Tools |\n|--------------------|\n|Apache Hadoop|\n|Apache Spark|\n|Apache Flink|",
      "metadata": {}
    },
    {
      "id": "7f61b4e0-888b-4d25-9cfe-7146d968a1e4",
      "cell_type": "markdown",
      "source": "### Below are a few examples of evaluating arithmetic expressions in Python ",
      "metadata": {}
    },
    {
      "id": "2df6fa7f-5295-4181-b4f6-e132ec5f50e7",
      "cell_type": "code",
      "source": "#This is a simple arithmetic expression to multiply then add integrate\n(3*4)+5 ",
      "metadata": {
        "trusted": true
      },
      "outputs": [
        {
          "execution_count": 5,
          "output_type": "execute_result",
          "data": {
            "text/plain": "17"
          },
          "metadata": {}
        }
      ],
      "execution_count": 5
    },
    {
      "id": "7f5e2129-c90c-4a1e-96f0-401ef906b625",
      "cell_type": "code",
      "source": "#This will convert 200 minutes to hours by dividing by 60\n200/60",
      "metadata": {
        "trusted": true
      },
      "outputs": [
        {
          "execution_count": 6,
          "output_type": "execute_result",
          "data": {
            "text/plain": "3.3333333333333335"
          },
          "metadata": {}
        }
      ],
      "execution_count": 6
    },
    {
      "id": "be0ad656-1488-4a5f-9433-4d4336c10e86",
      "cell_type": "markdown",
      "source": "## Author",
      "metadata": {}
    },
    {
      "id": "f5322a05-da65-4497-ba0f-405119f3e238",
      "cell_type": "markdown",
      "source": "Imanol Garcia",
      "metadata": {}
    }
  ]
}